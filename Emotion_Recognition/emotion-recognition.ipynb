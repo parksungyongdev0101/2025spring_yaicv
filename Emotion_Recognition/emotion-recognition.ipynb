{
 "cells": [
  {
   "cell_type": "code",
   "execution_count": 3,
   "metadata": {
    "_cell_guid": "b1076dfc-b9ad-4769-8c92-a6c4dae69d19",
    "_uuid": "8f2839f25d086af736a60e9eeb907d3b93b6e0e5",
    "execution": {
     "iopub.execute_input": "2025-04-05T13:08:18.577680Z",
     "iopub.status.busy": "2025-04-05T13:08:18.577392Z",
     "iopub.status.idle": "2025-04-05T13:08:18.683731Z",
     "shell.execute_reply": "2025-04-05T13:08:18.682722Z",
     "shell.execute_reply.started": "2025-04-05T13:08:18.577659Z"
    },
    "trusted": true
   },
   "outputs": [
    {
     "ename": "ModuleNotFoundError",
     "evalue": "No module named 'facenet_pytorch'",
     "output_type": "error",
     "traceback": [
      "\u001b[0;31m---------------------------------------------------------------------------\u001b[0m",
      "\u001b[0;31mModuleNotFoundError\u001b[0m                       Traceback (most recent call last)",
      "\u001b[0;32m<ipython-input-3-0528d5232d2d>\u001b[0m in \u001b[0;36m<cell line: 3>\u001b[0;34m()\u001b[0m\n\u001b[1;32m      1\u001b[0m \u001b[0;31m# crop.py\u001b[0m\u001b[0;34m\u001b[0m\u001b[0;34m\u001b[0m\u001b[0m\n\u001b[1;32m      2\u001b[0m \u001b[0;34m\u001b[0m\u001b[0m\n\u001b[0;32m----> 3\u001b[0;31m \u001b[0;32mfrom\u001b[0m \u001b[0mfacenet_pytorch\u001b[0m \u001b[0;32mimport\u001b[0m \u001b[0mMTCNN\u001b[0m\u001b[0;34m\u001b[0m\u001b[0;34m\u001b[0m\u001b[0m\n\u001b[0m\u001b[1;32m      4\u001b[0m \u001b[0;32mfrom\u001b[0m \u001b[0mPIL\u001b[0m \u001b[0;32mimport\u001b[0m \u001b[0mImage\u001b[0m\u001b[0;34m\u001b[0m\u001b[0;34m\u001b[0m\u001b[0m\n\u001b[1;32m      5\u001b[0m \u001b[0;32mimport\u001b[0m \u001b[0mtorch\u001b[0m\u001b[0;34m\u001b[0m\u001b[0;34m\u001b[0m\u001b[0m\n",
      "\u001b[0;31mModuleNotFoundError\u001b[0m: No module named 'facenet_pytorch'"
     ]
    }
   ],
   "source": [
    "# crop.py\n",
    "\n",
    "from facenet_pytorch import MTCNN\n",
    "from PIL import Image\n",
    "import torch\n",
    "from torchvision import transforms\n",
    "\n",
    "# 1. 얼굴 탐지기 초기화\n",
    "mtcnn = MTCNN(keep_all=False, device='cpu')  # 단일 얼굴\n",
    "\n",
    "# 2. 이미지 로딩\n",
    "image_path = ''\n",
    "image = Image.open(image_path).convert(\"RGB\")\n",
    "\n",
    "# 3. 얼굴 탐지 및 crop\n",
    "face = mtcnn(image)  # (3, H, W) torch.FloatTensor\n",
    "\n",
    "# 4. 저장 처리\n",
    "if face is not None:\n",
    "    # 값을 0~255 범위로 스케일링하고 byte 타입으로 변환\n",
    "    face = (face * 255).clamp(0, 255).byte()\n",
    "\n",
    "    # 텐서를 PIL 이미지로 변환 후 저장\n",
    "    face_pil = transforms.ToPILImage()(face.cpu())\n",
    "    face_pil.save(\"cropped_face.jpg\")\n",
    "\n",
    "    print(\"✅ 얼굴 crop 저장 완료: cropped_face.jpg\")\n",
    "else:\n",
    "    print(\"❌ 얼굴을 찾을 수 없습니다.\")"
   ]
  },
  {
   "cell_type": "code",
   "execution_count": 2,
   "metadata": {
    "execution": {
     "iopub.execute_input": "2025-04-06T01:31:14.165649Z",
     "iopub.status.busy": "2025-04-06T01:31:14.165260Z",
     "iopub.status.idle": "2025-04-06T01:32:11.542752Z",
     "shell.execute_reply": "2025-04-06T01:32:11.542049Z",
     "shell.execute_reply.started": "2025-04-06T01:31:14.165619Z"
    },
    "trusted": true
   },
   "outputs": [],
   "source": [
    "import matplotlib.pyplot as plt\n",
    "from torchvision import datasets, transforms\n",
    "from torchvision.datasets import ImageFolder\n",
    "from torch.utils.data import DataLoader\n",
    "\n",
    "labels = {\n",
    "    0: \"Angry\",\n",
    "    1: \"Disgust\",\n",
    "    2: \"Fear\",\n",
    "    3: \"Happy\",\n",
    "    4: \"Neutral\",\n",
    "    5: \"Sad\",\n",
    "    6: \"Surprise\",\n",
    "    \n",
    "}\n",
    "\n",
    "transform = transforms.Compose([\n",
    "    transforms.Resize((224, 224)),\n",
    "    transforms.ToTensor(),\n",
    "    transforms.Normalize([0.5]*3, [0.5]*3)  # RGB 정규화\n",
    "])\n",
    "\n",
    "train_dataset = datasets.ImageFolder('/kaggle/input/rafdataset/RAF dataset/train', transform=transform)\n",
    "test_dataset = datasets.ImageFolder('/kaggle/input/rafdataset/RAF dataset/test', transform=transform)\n",
    "\n",
    "train_loader = DataLoader(train_dataset, batch_size=32, shuffle=True, num_workers=4, pin_memory=True)\n",
    "test_loader = DataLoader(test_dataset, batch_size=32)"
   ]
  },
  {
   "cell_type": "code",
   "execution_count": 3,
   "metadata": {
    "execution": {
     "iopub.execute_input": "2025-04-06T01:32:30.603694Z",
     "iopub.status.busy": "2025-04-06T01:32:30.603284Z",
     "iopub.status.idle": "2025-04-06T01:32:33.863182Z",
     "shell.execute_reply": "2025-04-06T01:32:33.862278Z",
     "shell.execute_reply.started": "2025-04-06T01:32:30.603670Z"
    },
    "trusted": true
   },
   "outputs": [],
   "source": [
    "# emotion_swin.py\n",
    "\n",
    "import torch\n",
    "import torch.nn as nn\n",
    "import timm  # pip install timm\n",
    "\n",
    "class EmotionSwin(nn.Module):\n",
    "    def __init__(self, num_classes=7, model_name='swin_tiny_patch4_window7_224'):\n",
    "        super(EmotionSwin, self).__init__()\n",
    "\n",
    "        # Swin Transformer 전체 모델 불러오기 (분류용 head 포함)\n",
    "        self.model = timm.create_model(model_name, pretrained=True, num_classes=num_classes)\n",
    "\n",
    "    def forward(self, x):\n",
    "        return self.model(x)  # 출력 shape: [B, num_classes]"
   ]
  },
  {
   "cell_type": "code",
   "execution_count": null,
   "metadata": {
    "execution": {
     "iopub.execute_input": "2025-04-06T02:19:33.128162Z",
     "iopub.status.busy": "2025-04-06T02:19:33.127810Z",
     "iopub.status.idle": "2025-04-06T04:57:32.716712Z",
     "shell.execute_reply": "2025-04-06T04:57:32.715782Z",
     "shell.execute_reply.started": "2025-04-06T02:19:33.128133Z"
    },
    "trusted": true
   },
   "outputs": [
    {
     "name": "stderr",
     "output_type": "stream",
     "text": [
      "[Epoch 1]: 100%|██████████| 1284/1284 [05:15<00:00,  4.07it/s]\n"
     ]
    },
    {
     "name": "stdout",
     "output_type": "stream",
     "text": [
      "💾 새 최고 정확도! 모델 저장됨: 28.33%\n",
      "✅ Epoch [1/30] | Loss: 1.7805 | Acc: 28.33% | LR: 0.000300\n"
     ]
    },
    {
     "name": "stderr",
     "output_type": "stream",
     "text": [
      "[Epoch 2]: 100%|██████████| 1284/1284 [05:15<00:00,  4.07it/s]\n"
     ]
    },
    {
     "name": "stdout",
     "output_type": "stream",
     "text": [
      "💾 새 최고 정확도! 모델 저장됨: 28.89%\n",
      "✅ Epoch [2/30] | Loss: 1.7481 | Acc: 28.89% | LR: 0.000271\n"
     ]
    },
    {
     "name": "stderr",
     "output_type": "stream",
     "text": [
      "[Epoch 3]: 100%|██████████| 1284/1284 [05:15<00:00,  4.07it/s]\n"
     ]
    },
    {
     "name": "stdout",
     "output_type": "stream",
     "text": [
      "💾 새 최고 정확도! 모델 저장됨: 28.92%\n",
      "✅ Epoch [3/30] | Loss: 1.7414 | Acc: 28.92% | LR: 0.000197\n"
     ]
    },
    {
     "name": "stderr",
     "output_type": "stream",
     "text": [
      "[Epoch 4]: 100%|██████████| 1284/1284 [05:15<00:00,  4.07it/s]\n"
     ]
    },
    {
     "name": "stdout",
     "output_type": "stream",
     "text": [
      "💾 새 최고 정확도! 모델 저장됨: 29.64%\n",
      "✅ Epoch [4/30] | Loss: 1.7273 | Acc: 29.64% | LR: 0.000104\n"
     ]
    },
    {
     "name": "stderr",
     "output_type": "stream",
     "text": [
      "[Epoch 5]: 100%|██████████| 1284/1284 [05:15<00:00,  4.07it/s]\n"
     ]
    },
    {
     "name": "stdout",
     "output_type": "stream",
     "text": [
      "💾 새 최고 정확도! 모델 저장됨: 31.67%\n",
      "✅ Epoch [5/30] | Loss: 1.6953 | Acc: 31.67% | LR: 0.000030\n"
     ]
    },
    {
     "name": "stderr",
     "output_type": "stream",
     "text": [
      "[Epoch 6]: 100%|██████████| 1284/1284 [05:15<00:00,  4.07it/s]\n"
     ]
    },
    {
     "name": "stdout",
     "output_type": "stream",
     "text": [
      "✅ Epoch [6/30] | Loss: 1.7193 | Acc: 30.68% | LR: 0.000300\n"
     ]
    },
    {
     "name": "stderr",
     "output_type": "stream",
     "text": [
      "[Epoch 7]: 100%|██████████| 1284/1284 [05:15<00:00,  4.07it/s]\n"
     ]
    },
    {
     "name": "stdout",
     "output_type": "stream",
     "text": [
      "💾 새 최고 정확도! 모델 저장됨: 35.78%\n",
      "✅ Epoch [7/30] | Loss: 1.6261 | Acc: 35.78% | LR: 0.000293\n"
     ]
    },
    {
     "name": "stderr",
     "output_type": "stream",
     "text": [
      "[Epoch 8]: 100%|██████████| 1284/1284 [05:15<00:00,  4.07it/s]\n"
     ]
    },
    {
     "name": "stdout",
     "output_type": "stream",
     "text": [
      "💾 새 최고 정확도! 모델 저장됨: 47.43%\n",
      "✅ Epoch [8/30] | Loss: 1.3697 | Acc: 47.43% | LR: 0.000271\n"
     ]
    },
    {
     "name": "stderr",
     "output_type": "stream",
     "text": [
      "[Epoch 9]: 100%|██████████| 1284/1284 [05:15<00:00,  4.07it/s]\n"
     ]
    },
    {
     "name": "stdout",
     "output_type": "stream",
     "text": [
      "💾 새 최고 정확도! 모델 저장됨: 54.86%\n",
      "✅ Epoch [9/30] | Loss: 1.1884 | Acc: 54.86% | LR: 0.000238\n"
     ]
    },
    {
     "name": "stderr",
     "output_type": "stream",
     "text": [
      "[Epoch 10]: 100%|██████████| 1284/1284 [05:15<00:00,  4.07it/s]\n"
     ]
    },
    {
     "name": "stdout",
     "output_type": "stream",
     "text": [
      "💾 새 최고 정확도! 모델 저장됨: 59.43%\n",
      "✅ Epoch [10/30] | Loss: 1.0704 | Acc: 59.43% | LR: 0.000197\n"
     ]
    },
    {
     "name": "stderr",
     "output_type": "stream",
     "text": [
      "[Epoch 11]: 100%|██████████| 1284/1284 [05:15<00:00,  4.07it/s]\n"
     ]
    },
    {
     "name": "stdout",
     "output_type": "stream",
     "text": [
      "💾 새 최고 정확도! 모델 저장됨: 63.14%\n",
      "✅ Epoch [11/30] | Loss: 0.9733 | Acc: 63.14% | LR: 0.000150\n"
     ]
    },
    {
     "name": "stderr",
     "output_type": "stream",
     "text": [
      "[Epoch 12]: 100%|██████████| 1284/1284 [05:15<00:00,  4.07it/s]\n"
     ]
    },
    {
     "name": "stdout",
     "output_type": "stream",
     "text": [
      "💾 새 최고 정확도! 모델 저장됨: 66.72%\n",
      "✅ Epoch [12/30] | Loss: 0.8828 | Acc: 66.72% | LR: 0.000104\n"
     ]
    },
    {
     "name": "stderr",
     "output_type": "stream",
     "text": [
      "[Epoch 13]: 100%|██████████| 1284/1284 [05:15<00:00,  4.07it/s]\n"
     ]
    },
    {
     "name": "stdout",
     "output_type": "stream",
     "text": [
      "💾 새 최고 정확도! 모델 저장됨: 70.42%\n",
      "✅ Epoch [13/30] | Loss: 0.7929 | Acc: 70.42% | LR: 0.000063\n"
     ]
    },
    {
     "name": "stderr",
     "output_type": "stream",
     "text": [
      "[Epoch 14]: 100%|██████████| 1284/1284 [05:15<00:00,  4.07it/s]\n"
     ]
    },
    {
     "name": "stdout",
     "output_type": "stream",
     "text": [
      "💾 새 최고 정확도! 모델 저장됨: 73.11%\n",
      "✅ Epoch [14/30] | Loss: 0.7161 | Acc: 73.11% | LR: 0.000030\n"
     ]
    },
    {
     "name": "stderr",
     "output_type": "stream",
     "text": [
      "[Epoch 15]: 100%|██████████| 1284/1284 [05:15<00:00,  4.07it/s]\n"
     ]
    },
    {
     "name": "stdout",
     "output_type": "stream",
     "text": [
      "💾 새 최고 정확도! 모델 저장됨: 75.38%\n",
      "✅ Epoch [15/30] | Loss: 0.6613 | Acc: 75.38% | LR: 0.000008\n"
     ]
    },
    {
     "name": "stderr",
     "output_type": "stream",
     "text": [
      "[Epoch 16]: 100%|██████████| 1284/1284 [05:15<00:00,  4.07it/s]\n"
     ]
    },
    {
     "name": "stdout",
     "output_type": "stream",
     "text": [
      "✅ Epoch [16/30] | Loss: 0.9010 | Acc: 66.20% | LR: 0.000300\n"
     ]
    },
    {
     "name": "stderr",
     "output_type": "stream",
     "text": [
      "[Epoch 17]: 100%|██████████| 1284/1284 [05:15<00:00,  4.07it/s]\n"
     ]
    },
    {
     "name": "stdout",
     "output_type": "stream",
     "text": [
      "✅ Epoch [17/30] | Loss: 0.8822 | Acc: 66.67% | LR: 0.000298\n"
     ]
    },
    {
     "name": "stderr",
     "output_type": "stream",
     "text": [
      "[Epoch 18]: 100%|██████████| 1284/1284 [05:15<00:00,  4.07it/s]\n"
     ]
    },
    {
     "name": "stdout",
     "output_type": "stream",
     "text": [
      "✅ Epoch [18/30] | Loss: 0.8520 | Acc: 68.07% | LR: 0.000293\n"
     ]
    },
    {
     "name": "stderr",
     "output_type": "stream",
     "text": [
      "[Epoch 19]: 100%|██████████| 1284/1284 [05:15<00:00,  4.06it/s]\n"
     ]
    },
    {
     "name": "stdout",
     "output_type": "stream",
     "text": [
      "✅ Epoch [19/30] | Loss: 0.8115 | Acc: 69.65% | LR: 0.000284\n"
     ]
    },
    {
     "name": "stderr",
     "output_type": "stream",
     "text": [
      "[Epoch 20]: 100%|██████████| 1284/1284 [05:16<00:00,  4.06it/s]\n"
     ]
    },
    {
     "name": "stdout",
     "output_type": "stream",
     "text": [
      "✅ Epoch [20/30] | Loss: 0.7602 | Acc: 71.47% | LR: 0.000271\n"
     ]
    },
    {
     "name": "stderr",
     "output_type": "stream",
     "text": [
      "[Epoch 21]: 100%|██████████| 1284/1284 [05:16<00:00,  4.06it/s]\n"
     ]
    },
    {
     "name": "stdout",
     "output_type": "stream",
     "text": [
      "✅ Epoch [21/30] | Loss: 0.7022 | Acc: 73.92% | LR: 0.000256\n"
     ]
    },
    {
     "name": "stderr",
     "output_type": "stream",
     "text": [
      "[Epoch 22]: 100%|██████████| 1284/1284 [05:16<00:00,  4.06it/s]\n"
     ]
    },
    {
     "name": "stdout",
     "output_type": "stream",
     "text": [
      "💾 새 최고 정확도! 모델 저장됨: 76.36%\n",
      "✅ Epoch [22/30] | Loss: 0.6412 | Acc: 76.36% | LR: 0.000238\n"
     ]
    },
    {
     "name": "stderr",
     "output_type": "stream",
     "text": [
      "[Epoch 23]: 100%|██████████| 1284/1284 [05:16<00:00,  4.06it/s]\n"
     ]
    },
    {
     "name": "stdout",
     "output_type": "stream",
     "text": [
      "💾 새 최고 정확도! 모델 저장됨: 78.89%\n",
      "✅ Epoch [23/30] | Loss: 0.5715 | Acc: 78.89% | LR: 0.000218\n"
     ]
    },
    {
     "name": "stderr",
     "output_type": "stream",
     "text": [
      "[Epoch 24]: 100%|██████████| 1284/1284 [05:15<00:00,  4.07it/s]\n"
     ]
    },
    {
     "name": "stdout",
     "output_type": "stream",
     "text": [
      "💾 새 최고 정확도! 모델 저장됨: 81.65%\n",
      "✅ Epoch [24/30] | Loss: 0.4991 | Acc: 81.65% | LR: 0.000197\n"
     ]
    },
    {
     "name": "stderr",
     "output_type": "stream",
     "text": [
      "[Epoch 25]: 100%|██████████| 1284/1284 [05:15<00:00,  4.07it/s]\n"
     ]
    },
    {
     "name": "stdout",
     "output_type": "stream",
     "text": [
      "💾 새 최고 정확도! 모델 저장됨: 84.40%\n",
      "✅ Epoch [25/30] | Loss: 0.4237 | Acc: 84.40% | LR: 0.000174\n"
     ]
    },
    {
     "name": "stderr",
     "output_type": "stream",
     "text": [
      "[Epoch 26]: 100%|██████████| 1284/1284 [05:15<00:00,  4.07it/s]\n"
     ]
    },
    {
     "name": "stdout",
     "output_type": "stream",
     "text": [
      "💾 새 최고 정확도! 모델 저장됨: 87.45%\n",
      "✅ Epoch [26/30] | Loss: 0.3461 | Acc: 87.45% | LR: 0.000150\n"
     ]
    },
    {
     "name": "stderr",
     "output_type": "stream",
     "text": [
      "[Epoch 27]: 100%|██████████| 1284/1284 [05:15<00:00,  4.07it/s]\n"
     ]
    },
    {
     "name": "stdout",
     "output_type": "stream",
     "text": [
      "💾 새 최고 정확도! 모델 저장됨: 90.14%\n",
      "✅ Epoch [27/30] | Loss: 0.2750 | Acc: 90.14% | LR: 0.000127\n"
     ]
    },
    {
     "name": "stderr",
     "output_type": "stream",
     "text": [
      "[Epoch 28]: 100%|██████████| 1284/1284 [05:15<00:00,  4.07it/s]\n"
     ]
    },
    {
     "name": "stdout",
     "output_type": "stream",
     "text": [
      "💾 새 최고 정확도! 모델 저장됨: 92.23%\n",
      "✅ Epoch [28/30] | Loss: 0.2229 | Acc: 92.23% | LR: 0.000104\n"
     ]
    },
    {
     "name": "stderr",
     "output_type": "stream",
     "text": [
      "[Epoch 29]: 100%|██████████| 1284/1284 [05:15<00:00,  4.07it/s]\n"
     ]
    },
    {
     "name": "stdout",
     "output_type": "stream",
     "text": [
      "💾 새 최고 정확도! 모델 저장됨: 94.01%\n",
      "✅ Epoch [29/30] | Loss: 0.1746 | Acc: 94.01% | LR: 0.000083\n"
     ]
    },
    {
     "name": "stderr",
     "output_type": "stream",
     "text": [
      "[Epoch 30]: 100%|██████████| 1284/1284 [05:15<00:00,  4.07it/s]\n"
     ]
    },
    {
     "name": "stdout",
     "output_type": "stream",
     "text": [
      "💾 새 최고 정확도! 모델 저장됨: 95.26%\n",
      "✅ Epoch [30/30] | Loss: 0.1390 | Acc: 95.26% | LR: 0.000063\n",
      "📦 모델 저장 완료: emotion_swin_last.pth\n"
     ]
    },
    {
     "data": {
      "image/png": "[encoded data removed]",
      "text/plain": [
       "<Figure size 1200x500 with 2 Axes>"
      ]
     },
     "metadata": {},
     "output_type": "display_data"
    }
   ],
   "source": [
    "# train_swin.py\n",
    "import torch\n",
    "import torch.nn as nn\n",
    "import torch.optim as optim\n",
    "from torch.optim.lr_scheduler import CosineAnnealingWarmRestarts  \n",
    "import matplotlib.pyplot as plt\n",
    "from tqdm import tqdm\n",
    "\n",
    "# 하이퍼파라미터\n",
    "num_epochs = 30\n",
    "batch_size = 32\n",
    "learning_rate = 3e-4\n",
    "num_classes = 7\n",
    "\n",
    "\n",
    "device = torch.device(\"cuda\" if torch.cuda.is_available() else \"cpu\")\n",
    "\n",
    "\n",
    "model = EmotionSwin(num_classes=num_classes).to(device)\n",
    "\n",
    "# 손실 함수, 옵티마이저\n",
    "criterion = nn.CrossEntropyLoss()\n",
    "optimizer = optim.AdamW(model.parameters(), lr=learning_rate, weight_decay=0.01)\n",
    "\n",
    "# CosineAnnealingWarmRestarts\n",
    "scheduler = CosineAnnealingWarmRestarts(optimizer, T_0=5, T_mult=2, eta_min=1e-6)\n",
    "\n",
    "loss_history = []\n",
    "acc_history = []\n",
    "lr_history = []\n",
    "\n",
    "best_acc = 0.0\n",
    "\n",
    "for epoch in range(num_epochs):\n",
    "    model.train()\n",
    "    running_loss = 0.0\n",
    "    correct = 0\n",
    "    total = 0\n",
    "\n",
    "    for images, labels in tqdm(train_loader, desc=f\"[Epoch {epoch+1}]\"):\n",
    "        images, labels = images.to(device), labels.to(device)\n",
    "\n",
    "        optimizer.zero_grad()\n",
    "        outputs = model(images)\n",
    "        loss = criterion(outputs, labels)\n",
    "        loss.backward()\n",
    "        optimizer.step()\n",
    "\n",
    "        running_loss += loss.item()\n",
    "        _, predicted = outputs.max(1)\n",
    "        correct += predicted.eq(labels).sum().item()\n",
    "        total += labels.size(0)\n",
    "\n",
    "    epoch_loss = running_loss / len(train_loader)\n",
    "    epoch_acc = 100. * correct / total\n",
    "    loss_history.append(epoch_loss)\n",
    "    acc_history.append(epoch_acc)\n",
    "    lr_history.append(scheduler.get_last_lr()[0])\n",
    "\n",
    "    if epoch_acc > best_acc:\n",
    "        best_acc = epoch_acc\n",
    "        torch.save(model.state_dict(), 'best_model.pth')\n",
    "        print(f\"새 최고 정확도! 모델 저장됨: {best_acc:.2f}%\")\n",
    "\n",
    "\n",
    "    print(f\"✅ Epoch [{epoch+1}/{num_epochs}] | Loss: {epoch_loss:.4f} | Acc: {epoch_acc:.2f}% | LR: {lr_history[-1]:.6f}\")\n",
    "\n",
    "    scheduler.step()\n",
    "\n",
    "torch.save(model.state_dict(), 'emotion_swin_last.pth')\n",
    "print(\"📦 모델 저장 완료: emotion_swin_last.pth\")\n",
    "\n",
    "plt.figure(figsize=(12, 5))\n",
    "\n",
    "plt.subplot(1, 2, 1)\n",
    "plt.plot(loss_history, label='Loss', marker='o')\n",
    "plt.plot(acc_history, label='Accuracy', marker='x')\n",
    "plt.title('Training Loss & Accuracy')\n",
    "plt.xlabel('Epoch')\n",
    "plt.ylabel('Value')\n",
    "plt.legend()\n",
    "plt.grid(True)\n",
    "\n",
    "plt.subplot(1, 2, 2)\n",
    "plt.plot(lr_history, label='Learning Rate', color='orange')\n",
    "plt.title('Learning Rate Schedule')\n",
    "plt.xlabel('Epoch')\n",
    "plt.ylabel('LR')\n",
    "plt.grid(True)\n",
    "\n",
    "plt.tight_layout()\n",
    "plt.savefig(\"swin_train_curve.png\")\n",
    "plt.show()"
   ]
  },
  {
   "cell_type": "code",
   "execution_count": null,
   "metadata": {
    "trusted": true
   },
   "outputs": [],
   "source": [
    "# test.py\n",
    "import torch\n",
    "\n",
    "device = torch.device(\"cuda\" if torch.cuda.is_available() else \"cpu\")\n",
    "\n",
    "model = EmotionSwin(num_classes=7).to(device)\n",
    "model.load_state_dict(torch.load('emotion_swin_last.pth', map_location=device))\n",
    "model.eval()\n",
    "\n",
    "correct = 0\n",
    "total = 0\n",
    "\n",
    "with torch.no_grad():\n",
    "    for images, labels in test_loader:\n",
    "        images, labels = images.to(device), labels.to(device)\n",
    "\n",
    "        outputs = model(images)\n",
    "        _, predicted = torch.max(outputs, 1)\n",
    "\n",
    "        correct += (predicted == labels).sum().item()\n",
    "        total += labels.size(0)\n",
    "\n",
    "accuracy = 100. * correct / total\n",
    "print(f\"✅ 테스트 정확도: {accuracy:.2f}%\")"
   ]
  }
 ],
 "metadata": {
  "kaggle": {
   "accelerator": "gpu",
   "dataSources": [
    {
     "datasetId": 7053023,
     "sourceId": 11281196,
     "sourceType": "datasetVersion"
    }
   ],
   "dockerImageVersionId": 30918,
   "isGpuEnabled": true,
   "isInternetEnabled": true,
   "language": "python",
   "sourceType": "notebook"
  },
  "kernelspec": {
   "display_name": "Python 3",
   "language": "python",
   "name": "python3"
  },
  "language_info": {
   "codemirror_mode": {
    "name": "ipython",
    "version": 3
   },
   "file_extension": ".py",
   "mimetype": "text/x-python",
   "name": "python",
   "nbconvert_exporter": "python",
   "pygments_lexer": "ipython3",
   "version": "3.10.12"
  }
 },
 "nbformat": 4,
 "nbformat_minor": 4
}
